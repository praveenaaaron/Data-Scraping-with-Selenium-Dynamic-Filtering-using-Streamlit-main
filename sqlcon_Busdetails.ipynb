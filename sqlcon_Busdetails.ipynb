{
 "cells": [
  {
   "cell_type": "code",
   "execution_count": 2,
   "id": "9fea92c7-ebb1-4b71-aa80-b23933856cc1",
   "metadata": {},
   "outputs": [],
   "source": [
    "#importing libraries\n",
    "import pandas as pd\n",
    "import mysql.connector\n",
    "import numpy as np"
   ]
  },
  {
   "cell_type": "code",
   "execution_count": 8,
   "id": "5673e0d5-3e71-4660-bc89-f3e1660219c6",
   "metadata": {},
   "outputs": [
    {
     "data": {
      "text/html": [
       "<div>\n",
       "<style scoped>\n",
       "    .dataframe tbody tr th:only-of-type {\n",
       "        vertical-align: middle;\n",
       "    }\n",
       "\n",
       "    .dataframe tbody tr th {\n",
       "        vertical-align: top;\n",
       "    }\n",
       "\n",
       "    .dataframe thead th {\n",
       "        text-align: right;\n",
       "    }\n",
       "</style>\n",
       "<table border=\"1\" class=\"dataframe\">\n",
       "  <thead>\n",
       "    <tr style=\"text-align: right;\">\n",
       "      <th></th>\n",
       "      <th>Bus_name</th>\n",
       "      <th>Bus_type</th>\n",
       "      <th>Start_time</th>\n",
       "      <th>End_time</th>\n",
       "      <th>Total_duration</th>\n",
       "      <th>Price</th>\n",
       "      <th>Seats_Available</th>\n",
       "      <th>Ratings</th>\n",
       "      <th>Route_link</th>\n",
       "      <th>Route_name</th>\n",
       "    </tr>\n",
       "  </thead>\n",
       "  <tbody>\n",
       "    <tr>\n",
       "      <th>0</th>\n",
       "      <td>KSRTC (Kerala) - 581</td>\n",
       "      <td>Super Express Non AC Seater Air Bus (2+2)</td>\n",
       "      <td>10:00</td>\n",
       "      <td>18:22</td>\n",
       "      <td>08h 22m</td>\n",
       "      <td>INR 606</td>\n",
       "      <td>7 Seats available</td>\n",
       "      <td>4.1\\n92</td>\n",
       "      <td>https://www.redbus.in/bus-tickets/bangalore-to...</td>\n",
       "      <td>Bangalore to Kozhikode</td>\n",
       "    </tr>\n",
       "    <tr>\n",
       "      <th>1</th>\n",
       "      <td>KSRTC (Kerala) - 52</td>\n",
       "      <td>SWIFT-GARUDA A/C SEATER BUS</td>\n",
       "      <td>12:00</td>\n",
       "      <td>20:20</td>\n",
       "      <td>08h 20m</td>\n",
       "      <td>INR 945</td>\n",
       "      <td>23 Seats available</td>\n",
       "      <td>3.6\\n123</td>\n",
       "      <td>https://www.redbus.in/bus-tickets/bangalore-to...</td>\n",
       "      <td>Bangalore to Kozhikode</td>\n",
       "    </tr>\n",
       "    <tr>\n",
       "      <th>2</th>\n",
       "      <td>KSRTC (Kerala) - 1210</td>\n",
       "      <td>SWIFT-HYBRID NON AC SEATER CUM SLEEPER</td>\n",
       "      <td>12:55</td>\n",
       "      <td>21:05</td>\n",
       "      <td>08h 10m</td>\n",
       "      <td>INR 740</td>\n",
       "      <td>15 Seats available</td>\n",
       "      <td>3.8\\n20</td>\n",
       "      <td>https://www.redbus.in/bus-tickets/bangalore-to...</td>\n",
       "      <td>Bangalore to Kozhikode</td>\n",
       "    </tr>\n",
       "    <tr>\n",
       "      <th>3</th>\n",
       "      <td>KSRTC (Kerala) - 129</td>\n",
       "      <td>SWIFT-GARUDA A/C SEATER BUS</td>\n",
       "      <td>14:15</td>\n",
       "      <td>23:05</td>\n",
       "      <td>08h 50m</td>\n",
       "      <td>INR 945</td>\n",
       "      <td>27 Seats available</td>\n",
       "      <td>4.3\\n79</td>\n",
       "      <td>https://www.redbus.in/bus-tickets/bangalore-to...</td>\n",
       "      <td>Bangalore to Kozhikode</td>\n",
       "    </tr>\n",
       "    <tr>\n",
       "      <th>4</th>\n",
       "      <td>KSRTC (Kerala) - 235</td>\n",
       "      <td>Swift Deluxe Non AC Air Bus (2+2)</td>\n",
       "      <td>15:00</td>\n",
       "      <td>01:00</td>\n",
       "      <td>10h 00m</td>\n",
       "      <td>INR 801</td>\n",
       "      <td>19 Seats available</td>\n",
       "      <td>3.9\\n15</td>\n",
       "      <td>https://www.redbus.in/bus-tickets/bangalore-to...</td>\n",
       "      <td>Bangalore to Kozhikode</td>\n",
       "    </tr>\n",
       "    <tr>\n",
       "      <th>...</th>\n",
       "      <td>...</td>\n",
       "      <td>...</td>\n",
       "      <td>...</td>\n",
       "      <td>...</td>\n",
       "      <td>...</td>\n",
       "      <td>...</td>\n",
       "      <td>...</td>\n",
       "      <td>...</td>\n",
       "      <td>...</td>\n",
       "      <td>...</td>\n",
       "    </tr>\n",
       "    <tr>\n",
       "      <th>1229</th>\n",
       "      <td>NaN</td>\n",
       "      <td>NaN</td>\n",
       "      <td>NaN</td>\n",
       "      <td>NaN</td>\n",
       "      <td>NaN</td>\n",
       "      <td>NaN</td>\n",
       "      <td>NaN</td>\n",
       "      <td>NaN</td>\n",
       "      <td>https://www.redbus.in/bus-tickets/digha-to-habra</td>\n",
       "      <td>Digha to Habra</td>\n",
       "    </tr>\n",
       "    <tr>\n",
       "      <th>1230</th>\n",
       "      <td>WBTC (CTC) KOLKATA -BOLPUR - SURI (AC-VOLVO) -...</td>\n",
       "      <td>Volvo AC Seater (2+2)</td>\n",
       "      <td>14:30</td>\n",
       "      <td>18:15</td>\n",
       "      <td>03h 45m</td>\n",
       "      <td>INR 375</td>\n",
       "      <td>26 Seats available</td>\n",
       "      <td>4.0\\n114</td>\n",
       "      <td>https://www.redbus.in/bus-tickets/kolkata-to-b...</td>\n",
       "      <td>Kolkata to Bolpur (West Bengal)</td>\n",
       "    </tr>\n",
       "    <tr>\n",
       "      <th>1231</th>\n",
       "      <td>WBTC (CTC) Habra- Barasat- Haldia - 180|16:45</td>\n",
       "      <td>Non AC Seater (2+3)</td>\n",
       "      <td>16:45</td>\n",
       "      <td>20:00</td>\n",
       "      <td>03h 15m</td>\n",
       "      <td>INR 113</td>\n",
       "      <td>34 Seats available</td>\n",
       "      <td>3.6\\n83</td>\n",
       "      <td>https://www.redbus.in/bus-tickets/haldia-to-ba...</td>\n",
       "      <td>Haldia to Barasat (West Bengal)</td>\n",
       "    </tr>\n",
       "    <tr>\n",
       "      <th>1232</th>\n",
       "      <td>WBTC (CTC) Habra- Barasat- Haldia - 180|07:10</td>\n",
       "      <td>Non AC Seater (2+3)</td>\n",
       "      <td>07:10</td>\n",
       "      <td>10:45</td>\n",
       "      <td>03h 35m</td>\n",
       "      <td>INR 113</td>\n",
       "      <td>36 Seats available</td>\n",
       "      <td>3.9\\n75</td>\n",
       "      <td>https://www.redbus.in/bus-tickets/barasat-west...</td>\n",
       "      <td>Barasat (West Bengal) to Haldia</td>\n",
       "    </tr>\n",
       "    <tr>\n",
       "      <th>1233</th>\n",
       "      <td>SBSTC-HABRA - HALDIA - 06:50 (HALDIA) - 1509</td>\n",
       "      <td>Non AC Seater (2+3)</td>\n",
       "      <td>07:50</td>\n",
       "      <td>11:25</td>\n",
       "      <td>03h 35m</td>\n",
       "      <td>INR 124</td>\n",
       "      <td>46 Seats available</td>\n",
       "      <td></td>\n",
       "      <td>https://www.redbus.in/bus-tickets/barasat-west...</td>\n",
       "      <td>Barasat (West Bengal) to Haldia</td>\n",
       "    </tr>\n",
       "  </tbody>\n",
       "</table>\n",
       "<p>1234 rows × 10 columns</p>\n",
       "</div>"
      ],
      "text/plain": [
       "                                               Bus_name  \\\n",
       "0                                  KSRTC (Kerala) - 581   \n",
       "1                                   KSRTC (Kerala) - 52   \n",
       "2                                 KSRTC (Kerala) - 1210   \n",
       "3                                  KSRTC (Kerala) - 129   \n",
       "4                                  KSRTC (Kerala) - 235   \n",
       "...                                                 ...   \n",
       "1229                                                NaN   \n",
       "1230  WBTC (CTC) KOLKATA -BOLPUR - SURI (AC-VOLVO) -...   \n",
       "1231      WBTC (CTC) Habra- Barasat- Haldia - 180|16:45   \n",
       "1232      WBTC (CTC) Habra- Barasat- Haldia - 180|07:10   \n",
       "1233       SBSTC-HABRA - HALDIA - 06:50 (HALDIA) - 1509   \n",
       "\n",
       "                                       Bus_type Start_time End_time  \\\n",
       "0     Super Express Non AC Seater Air Bus (2+2)      10:00    18:22   \n",
       "1                   SWIFT-GARUDA A/C SEATER BUS      12:00    20:20   \n",
       "2        SWIFT-HYBRID NON AC SEATER CUM SLEEPER      12:55    21:05   \n",
       "3                   SWIFT-GARUDA A/C SEATER BUS      14:15    23:05   \n",
       "4             Swift Deluxe Non AC Air Bus (2+2)      15:00    01:00   \n",
       "...                                         ...        ...      ...   \n",
       "1229                                        NaN        NaN      NaN   \n",
       "1230                      Volvo AC Seater (2+2)      14:30    18:15   \n",
       "1231                        Non AC Seater (2+3)      16:45    20:00   \n",
       "1232                        Non AC Seater (2+3)      07:10    10:45   \n",
       "1233                        Non AC Seater (2+3)      07:50    11:25   \n",
       "\n",
       "     Total_duration    Price     Seats_Available   Ratings  \\\n",
       "0           08h 22m  INR 606   7 Seats available   4.1\\n92   \n",
       "1           08h 20m  INR 945  23 Seats available  3.6\\n123   \n",
       "2           08h 10m  INR 740  15 Seats available   3.8\\n20   \n",
       "3           08h 50m  INR 945  27 Seats available   4.3\\n79   \n",
       "4           10h 00m  INR 801  19 Seats available   3.9\\n15   \n",
       "...             ...      ...                 ...       ...   \n",
       "1229            NaN      NaN                 NaN       NaN   \n",
       "1230        03h 45m  INR 375  26 Seats available  4.0\\n114   \n",
       "1231        03h 15m  INR 113  34 Seats available   3.6\\n83   \n",
       "1232        03h 35m  INR 113  36 Seats available   3.9\\n75   \n",
       "1233        03h 35m  INR 124  46 Seats available             \n",
       "\n",
       "                                             Route_link  \\\n",
       "0     https://www.redbus.in/bus-tickets/bangalore-to...   \n",
       "1     https://www.redbus.in/bus-tickets/bangalore-to...   \n",
       "2     https://www.redbus.in/bus-tickets/bangalore-to...   \n",
       "3     https://www.redbus.in/bus-tickets/bangalore-to...   \n",
       "4     https://www.redbus.in/bus-tickets/bangalore-to...   \n",
       "...                                                 ...   \n",
       "1229   https://www.redbus.in/bus-tickets/digha-to-habra   \n",
       "1230  https://www.redbus.in/bus-tickets/kolkata-to-b...   \n",
       "1231  https://www.redbus.in/bus-tickets/haldia-to-ba...   \n",
       "1232  https://www.redbus.in/bus-tickets/barasat-west...   \n",
       "1233  https://www.redbus.in/bus-tickets/barasat-west...   \n",
       "\n",
       "                           Route_name  \n",
       "0              Bangalore to Kozhikode  \n",
       "1              Bangalore to Kozhikode  \n",
       "2              Bangalore to Kozhikode  \n",
       "3              Bangalore to Kozhikode  \n",
       "4              Bangalore to Kozhikode  \n",
       "...                               ...  \n",
       "1229                   Digha to Habra  \n",
       "1230  Kolkata to Bolpur (West Bengal)  \n",
       "1231  Haldia to Barasat (West Bengal)  \n",
       "1232  Barasat (West Bengal) to Haldia  \n",
       "1233  Barasat (West Bengal) to Haldia  \n",
       "\n",
       "[1234 rows x 10 columns]"
      ]
     },
     "execution_count": 8,
     "metadata": {},
     "output_type": "execute_result"
    }
   ],
   "source": [
    "# csv to dataframe\n",
    "df_buses_1=pd.read_csv(\"F:/praveena/DataScience/Mini_Project/DS_REDBUS/Data-Scraping-with-Selenium-Dynamic-Filtering-using-Streamlit-main/df_buses/df_buses_1.csv\")\n",
    "df_buses_2=pd.read_csv(\"F:/praveena/DataScience/Mini_Project/DS_REDBUS/Data-Scraping-with-Selenium-Dynamic-Filtering-using-Streamlit-main/df_buses/df_buses_2.csv\")\n",
    "df_buses_3=pd.read_csv(\"F:/praveena/DataScience/Mini_Project/DS_REDBUS/Data-Scraping-with-Selenium-Dynamic-Filtering-using-Streamlit-main/df_buses/df_buses_3.csv\")\n",
    "df_buses_4=pd.read_csv(\"F:/praveena/DataScience/Mini_Project/DS_REDBUS/Data-Scraping-with-Selenium-Dynamic-Filtering-using-Streamlit-main/df_buses/df_buses_4.csv\")\n",
    "df_buses_5=pd.read_csv(\"F:/praveena/DataScience/Mini_Project/DS_REDBUS/Data-Scraping-with-Selenium-Dynamic-Filtering-using-Streamlit-main/df_buses/df_buses_5.csv\")\n",
    "df_buses_6=pd.read_csv(\"F:/praveena/DataScience/Mini_Project/DS_REDBUS/Data-Scraping-with-Selenium-Dynamic-Filtering-using-Streamlit-main/df_buses/df_buses_6.csv\")\n",
    "df_buses_7=pd.read_csv(\"F:/praveena/DataScience/Mini_Project/DS_REDBUS/Data-Scraping-with-Selenium-Dynamic-Filtering-using-Streamlit-main/df_buses/df_buses_7.csv\")\n",
    "df_buses_8=pd.read_csv(\"F:/praveena/DataScience/Mini_Project/DS_REDBUS/Data-Scraping-with-Selenium-Dynamic-Filtering-using-Streamlit-main/df_buses/df_buses_8.csv\")\n",
    "df_buses_9=pd.read_csv(\"F:/praveena/DataScience/Mini_Project/DS_REDBUS/Data-Scraping-with-Selenium-Dynamic-Filtering-using-Streamlit-main/df_buses/df_buses_9.csv\")\n",
    "df_buses_10=pd.read_csv(\"F:/praveena/DataScience/Mini_Project/DS_REDBUS/Data-Scraping-with-Selenium-Dynamic-Filtering-using-Streamlit-main/df_buses/df_buses_10.csv\")\n",
    "\n",
    "Final_df=pd.concat([df_buses_1,df_buses_2,df_buses_3,df_buses_4,df_buses_5,df_buses_6,\n",
    "                    df_buses_7,df_buses_8,df_buses_9,df_buses_10],ignore_index=True)\n",
    "Final_df"
   ]
  },
  {
   "cell_type": "markdown",
   "id": "2705a16f-8233-4f15-a46b-8507b96824eb",
   "metadata": {},
   "source": [
    "Data cleaning"
   ]
  },
  {
   "cell_type": "code",
   "execution_count": 10,
   "id": "9d1a2a9d-024f-400b-979a-b46710b6d48a",
   "metadata": {},
   "outputs": [
    {
     "name": "stdout",
     "output_type": "stream",
     "text": [
      "<class 'pandas.core.frame.DataFrame'>\n",
      "RangeIndex: 1234 entries, 0 to 1233\n",
      "Data columns (total 10 columns):\n",
      " #   Column           Non-Null Count  Dtype \n",
      "---  ------           --------------  ----- \n",
      " 0   Bus_name         1198 non-null   object\n",
      " 1   Bus_type         1182 non-null   object\n",
      " 2   Start_time       1198 non-null   object\n",
      " 3   End_time         1198 non-null   object\n",
      " 4   Total_duration   1198 non-null   object\n",
      " 5   Price            1197 non-null   object\n",
      " 6   Seats_Available  1194 non-null   object\n",
      " 7   Ratings          1198 non-null   object\n",
      " 8   Route_link       1234 non-null   object\n",
      " 9   Route_name       1234 non-null   object\n",
      "dtypes: object(10)\n",
      "memory usage: 96.5+ KB\n"
     ]
    }
   ],
   "source": [
    "# data about the data\n",
    "Final_df.info()"
   ]
  },
  {
   "cell_type": "code",
   "execution_count": 12,
   "id": "73f6fffe-637f-4818-a01a-9e72aebddc97",
   "metadata": {},
   "outputs": [
    {
     "data": {
      "text/plain": [
       "0       606.0\n",
       "1       945.0\n",
       "2       740.0\n",
       "3       945.0\n",
       "4       801.0\n",
       "        ...  \n",
       "1229      0.0\n",
       "1230    375.0\n",
       "1231    113.0\n",
       "1232    113.0\n",
       "1233    124.0\n",
       "Name: Price, Length: 1234, dtype: float64"
      ]
     },
     "execution_count": 12,
     "metadata": {},
     "output_type": "execute_result"
    }
   ],
   "source": [
    "#convert prices to numeric\n",
    "Final_df[\"Price\"]=Final_df[\"Price\"].str.replace(\"INR\",\"\")\n",
    "Final_df[\"Price\"]=Final_df[\"Price\"].astype(float)\n",
    "Final_df[\"Price\"].fillna(0) "
   ]
  },
  {
   "cell_type": "code",
   "execution_count": 20,
   "id": "c948be89-5bc1-482c-936b-e5c30c7eab89",
   "metadata": {},
   "outputs": [],
   "source": [
    "#convert Ratings to numeric\n",
    "Final_df[\"Ratings\"] = Final_df[\"Ratings\"].astype(str)\n",
    "Final_df[\"Ratings\"] = Final_df[\"Ratings\"].str.replace(\"New\", \"\", regex=False)\n",
    "Final_df[\"Ratings\"] = Final_df[\"Ratings\"].str.strip()\n",
    "Final_df[\"Ratings\"] = Final_df[\"Ratings\"].str.split().str[0]\n",
    "Final_df[\"Ratings\"] = pd.to_numeric(Final_df[\"Ratings\"], errors='coerce').fillna(0)"
   ]
  },
  {
   "cell_type": "code",
   "execution_count": 22,
   "id": "11111555-89ab-412f-bb76-87b1169593db",
   "metadata": {},
   "outputs": [
    {
     "name": "stdout",
     "output_type": "stream",
     "text": [
      "<class 'pandas.core.frame.DataFrame'>\n",
      "RangeIndex: 1234 entries, 0 to 1233\n",
      "Data columns (total 10 columns):\n",
      " #   Column           Non-Null Count  Dtype  \n",
      "---  ------           --------------  -----  \n",
      " 0   Bus_name         1198 non-null   object \n",
      " 1   Bus_type         1182 non-null   object \n",
      " 2   Start_time       1198 non-null   object \n",
      " 3   End_time         1198 non-null   object \n",
      " 4   Total_duration   1198 non-null   object \n",
      " 5   Price            1197 non-null   float64\n",
      " 6   Seats_Available  1194 non-null   object \n",
      " 7   Ratings          1234 non-null   float64\n",
      " 8   Route_link       1234 non-null   object \n",
      " 9   Route_name       1234 non-null   object \n",
      "dtypes: float64(2), object(8)\n",
      "memory usage: 96.5+ KB\n"
     ]
    }
   ],
   "source": [
    "# info after the data type change\n",
    "Final_df.info()"
   ]
  },
  {
   "cell_type": "code",
   "execution_count": 24,
   "id": "5859282e-cc3c-4e8d-970d-52cd18185175",
   "metadata": {},
   "outputs": [],
   "source": [
    "Final_df = Final_df[Final_df[\"Price\"] <= 7000]"
   ]
  },
  {
   "cell_type": "code",
   "execution_count": 98,
   "id": "9ba2b2dc-b64a-43ff-9e47-d2c9181bf862",
   "metadata": {},
   "outputs": [],
   "source": [
    "# Replace NaN in the 'Bus_type''Seats_Available' column with a default value\n",
    "Final_df.loc[:, 'Bus_type'] = Final_df['Bus_type'].fillna('DefaultBusType')\n",
    "Final_df.loc[:, 'Seats_Available'] = Final_df['Seats_Available'].fillna('DefaultSeats_Available')"
   ]
  },
  {
   "cell_type": "code",
   "execution_count": 100,
   "id": "e18871d3-f5c5-4ec6-984f-3216e89add39",
   "metadata": {},
   "outputs": [],
   "source": [
    "# replacing the nan value\n",
    "Final_df = Final_df.replace({np.nan: None})"
   ]
  },
  {
   "cell_type": "code",
   "execution_count": 102,
   "id": "3f2381c6-5d86-4038-a7ea-1e8eb2d2d4ca",
   "metadata": {},
   "outputs": [],
   "source": [
    "# change dataframe to csv\n",
    "path=r\"F:/praveena/DataScience/Mini_Project/DS_REDBUS/Data-Scraping-with-Selenium-Dynamic-Filtering-using-Streamlit-main/df_buses/Final_busdetails_df.csv\"\n",
    "Final_df.to_csv(path,index=False)"
   ]
  },
  {
   "cell_type": "markdown",
   "id": "b48f5279-3604-4214-be66-592c3ebebded",
   "metadata": {},
   "source": [
    "Create a mysql database\n"
   ]
  },
  {
   "cell_type": "code",
   "execution_count": 112,
   "id": "c8a9b7b0-28de-4cff-9cf9-cf09cbe5737e",
   "metadata": {},
   "outputs": [],
   "source": [
    "#sql connection\n",
    "conn=mysql.connector.connect(host=\"localhost\", user=\"root\", password=\"ALAN1@3veena\",database=\"RED_BUS_DETAILS\")\n",
    "my_cursor = conn.cursor()\n",
    "my_cursor.execute(\"CREATE DATABASE IF NOT EXISTS RED_BUS_DETAILS\")"
   ]
  },
  {
   "cell_type": "code",
   "execution_count": 114,
   "id": "2dfb57d3-e451-4576-a91f-6fe896ef410e",
   "metadata": {},
   "outputs": [
    {
     "name": "stdout",
     "output_type": "stream",
     "text": [
      "Table Created successfully\n"
     ]
    }
   ],
   "source": [
    "# Table Creation\n",
    "my_cursor.execute('''CREATE TABLE IF NOT EXISTS bus_details(\n",
    "                  ID INT AUTO_INCREMENT PRIMARY KEY,\n",
    "                  Bus_name VARCHAR(255) NOT NULL,\n",
    "                  Bus_type VARCHAR(255) NOT NULL,\n",
    "                  Start_time VARCHAR(255) NOT NULL,\n",
    "                  End_time VARCHAR(255) NOT NULL,\n",
    "                  Total_duration VARCHAR(255) NOT NULL,\n",
    "                  Price FLOAT NULL,\n",
    "                  Seats_Available VARCHAR(255) NOT NULL,\n",
    "                  Ratings Float NULL,\n",
    "                  Route_link VARCHAR(255) NULL,\n",
    "                  Route_name VARCHAR(255) NULL\n",
    "                  )''')\n",
    "print(\"Table Created successfully\")"
   ]
  },
  {
   "cell_type": "code",
   "execution_count": 116,
   "id": "f6416617-affc-4729-adb0-4f15b0e95c98",
   "metadata": {},
   "outputs": [
    {
     "name": "stdout",
     "output_type": "stream",
     "text": [
      "Values inserted successfully\n"
     ]
    }
   ],
   "source": [
    "# SQL query to insert data into bus_details table\n",
    "insert_query = '''INSERT INTO bus_details(\n",
    "                    Bus_name,\n",
    "                    Bus_type,\n",
    "                    Start_time,\n",
    "                    End_time,\n",
    "                    Total_duration,\n",
    "                    Price,\n",
    "                    Seats_Available,\n",
    "                    Ratings,\n",
    "                    Route_link,\n",
    "                    Route_name)\n",
    "                  VALUES(%s, %s, %s, %s, %s, %s, %s, %s, %s, %s)'''\n",
    "data = Final_df.values.tolist()\n",
    "\n",
    "my_cursor.executemany(insert_query, data)\n",
    "\n",
    "conn.commit()\n",
    "\n",
    "print(\"Values inserted successfully\")\n"
   ]
  },
  {
   "cell_type": "code",
   "execution_count": null,
   "id": "22514c90-9e6c-4189-8385-692f85de3e23",
   "metadata": {},
   "outputs": [],
   "source": []
  }
 ],
 "metadata": {
  "kernelspec": {
   "display_name": "Python 3 (ipykernel)",
   "language": "python",
   "name": "python3"
  },
  "language_info": {
   "codemirror_mode": {
    "name": "ipython",
    "version": 3
   },
   "file_extension": ".py",
   "mimetype": "text/x-python",
   "name": "python",
   "nbconvert_exporter": "python",
   "pygments_lexer": "ipython3",
   "version": "3.12.4"
  }
 },
 "nbformat": 4,
 "nbformat_minor": 5
}
