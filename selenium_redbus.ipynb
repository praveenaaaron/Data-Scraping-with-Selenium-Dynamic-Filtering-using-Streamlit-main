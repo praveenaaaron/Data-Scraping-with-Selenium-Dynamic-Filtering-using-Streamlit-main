{
 "cells": [
  {
   "cell_type": "code",
   "execution_count": null,
   "metadata": {},
   "outputs": [],
   "source": [
    "#importing libraries\n",
    "from selenium import webdriver\n",
    "from selenium.webdriver import ActionChains\n",
    "from selenium.webdriver.common.by import By\n",
    "from selenium.webdriver.common.keys import Keys\n",
    "from selenium.common.exceptions import TimeoutException, NoSuchElementException\n",
    "import time\n",
    "from selenium.webdriver.support.ui import WebDriverWait\n",
    "from selenium.webdriver.support import expected_conditions as EC\n",
    "import pandas as pd"
   ]
  },
  {
   "cell_type": "code",
   "execution_count": 1,
   "metadata": {},
   "outputs": [],
   "source": [
    "#10 states links\n",
    "state_links=[\"https://www.redbus.in/online-booking/ksrtc-kerala/?utm_source=rtchometile\",\n",
    "             \"https://www.redbus.in/online-booking/apsrtc/?utm_source=rtchometile\",\n",
    "             \"https://www.redbus.in/online-booking/tsrtc/?utm_source=rtchometile\",\n",
    "             \"https://www.redbus.in/online-booking/ktcl/?utm_source=rtchometile\",\n",
    "             \"https://www.redbus.in/online-booking/rsrtc/?utm_source=rtchometile\",\n",
    "             \"https://www.redbus.in/online-booking/south-bengal-state-transport-corporation-sbstc/?utm_source=rtchometile\",\n",
    "             \"https://www.redbus.in/online-booking/hrtc/?utm_source=rtchometile\",\n",
    "             \"https://www.redbus.in/online-booking/astc/?utm_source=rtchometile\",\n",
    "             \"https://www.redbus.in/online-booking/uttar-pradesh-state-road-transport-corporation-upsrtc/?utm_source=rtchometile\",\n",
    "             \"https://www.redbus.in/online-booking/wbtc-ctc/?utm_source=rtchometile\"\n",
    "]"
   ]
  },
  {
   "cell_type": "markdown",
   "metadata": {},
   "source": [
    "kerala routes"
   ]
  },
  {
   "cell_type": "code",
   "execution_count": null,
   "metadata": {},
   "outputs": [],
   "source": [
    "#open the browser\n",
    "\n",
    "driver=webdriver.Chrome()\n",
    "\n",
    "#load the webpage\n",
    "\n",
    "driver.get(\"https://www.redbus.in/online-booking/ksrtc-kerala/?utm_source=rtchometile\")\n",
    "\n",
    "time.sleep(3)\n",
    "\n",
    "driver.maximize_window()"
   ]
  },
  {
   "cell_type": "code",
   "execution_count": null,
   "metadata": {},
   "outputs": [],
   "source": [
    "#retrive  bus links and route\n",
    "wait = WebDriverWait(driver, 20)\n",
    "def Kerala_link_route(path):   \n",
    "    LINKS_KERALA=[]\n",
    "    ROUTE_KERALA=[]\n",
    "    # retrive the route links \n",
    "    for i in range(1,3):\n",
    "        paths=driver.find_elements(By.XPATH,path)\n",
    "        \n",
    "        for links in paths:\n",
    "            d = links.get_attribute(\"href\")\n",
    "            LINKS_KERALA.append(d)\n",
    "            \n",
    "        # retrive names of the routes\n",
    "        for route in paths:\n",
    "            ROUTE_KERALA.append(route.text)\n",
    "            \n",
    "        try:\n",
    "            # Wait for the pagination element to be present\n",
    "            pagination = wait.until(EC.presence_of_element_located((By.XPATH, '//*[@class=\"DC_117_paginationTable\"]')))\n",
    "            next_button = pagination.find_element(By.XPATH, f'//div[@class=\"DC_117_pageTabs \" and text()={i+1}]')\n",
    "            time.sleep(3)\n",
    "            next_button.click()\n",
    "            \n",
    "        except NoSuchElementException:\n",
    "            print(f\"No more pages to paginate at step {i}\")\n",
    "            break\n",
    "            \n",
    "    return LINKS_KERALA,ROUTE_KERALA\n",
    "\n",
    "LINKS_KERALA,ROUTE_KERALA=Kerala_link_route(\"//a[@class='route']\")"
   ]
  },
  {
   "cell_type": "code",
   "execution_count": null,
   "metadata": {},
   "outputs": [],
   "source": [
    "df_k=pd.DataFrame({\"Route_name\":ROUTE_KERALA,\"Route_link\":LINKS_KERALA})\n",
    "df_k"
   ]
  },
  {
   "cell_type": "code",
   "execution_count": null,
   "metadata": {},
   "outputs": [],
   "source": [
    "# change dataframe to csv\n",
    "path=r\"F:\\praveena\\DataScience\\Mini_Project\\DS_REDBUS\\Data-Scraping-with-Selenium-Dynamic-Filtering-using-Streamlit-main\\csv_files\\df_K.csv\"\n",
    "df_k.to_csv(path,index=False)"
   ]
  }
 ],
 "metadata": {
  "kernelspec": {
   "display_name": "Python 3",
   "language": "python",
   "name": "python3"
  },
  "language_info": {
   "codemirror_mode": {
    "name": "ipython",
    "version": 3
   },
   "file_extension": ".py",
   "mimetype": "text/x-python",
   "name": "python",
   "nbconvert_exporter": "python",
   "pygments_lexer": "ipython3",
   "version": "3.12.6"
  }
 },
 "nbformat": 4,
 "nbformat_minor": 2
}
